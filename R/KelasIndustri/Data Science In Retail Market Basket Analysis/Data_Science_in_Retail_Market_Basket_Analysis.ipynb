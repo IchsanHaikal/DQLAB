{
  "nbformat": 4,
  "nbformat_minor": 0,
  "metadata": {
    "colab": {
      "provenance": []
    },
    "kernelspec": {
      "name": "ir",
      "display_name": "R"
    },
    "language_info": {
      "name": "R"
    }
  },
  "cells": [
    {
      "cell_type": "markdown",
      "source": [
        "Contoh Code Market Basket Analysis di R"
      ],
      "metadata": {
        "id": "KEw3pd4_u4El"
      }
    },
    {
      "cell_type": "code",
      "source": [
        "# Install library arules\n",
        "install.packages(\"arules\")"
      ],
      "metadata": {
        "colab": {
          "base_uri": "https://localhost:8080/"
        },
        "id": "tMcwjLbQuZNz",
        "outputId": "a6007136-747d-4b46-a66f-b76249a6d75b"
      },
      "execution_count": 40,
      "outputs": [
        {
          "output_type": "stream",
          "name": "stderr",
          "text": [
            "Installing package into ‘/usr/local/lib/R/site-library’\n",
            "(as ‘lib’ is unspecified)\n",
            "\n"
          ]
        }
      ]
    },
    {
      "cell_type": "code",
      "execution_count": 41,
      "metadata": {
        "id": "cNZmLc0NuLFs"
      },
      "outputs": [],
      "source": [
        "# Menggunakan library arules\n",
        "library(arules)"
      ]
    },
    {
      "cell_type": "code",
      "source": [
        "# Membaca transaksi dari file data_transaksi.txt\n",
        "transaksi <- read.transactions(file=\"https://academy.dqlab.id/dataset/data_transaksi.txt\",\n",
        "                               format=\"single\", sep=\"\\t\", cols=c(1,2), skip=1)\n",
        "\n",
        "# Menampilkan data transaksi dengan print dan inspect\n",
        "inspect(transaksi)"
      ],
      "metadata": {
        "colab": {
          "base_uri": "https://localhost:8080/"
        },
        "id": "BW3aSz10uXCA",
        "outputId": "6a017006-c55b-4258-815c-acde4d05ff97"
      },
      "execution_count": 42,
      "outputs": [
        {
          "output_type": "stream",
          "name": "stdout",
          "text": [
            "     items                        transactionID\n",
            "[1]  {Pet Food, Sirup, Teh Celup} #01          \n",
            "[2]  {Gula, Teh Celup}            #02          \n",
            "[3]  {Pet Food, Sirup}            #03          \n",
            "[4]  {Sirup, Teh Celup}           #04          \n",
            "[5]  {Gula, Sirup, Teh Celup}     #05          \n",
            "[6]  {Pet Food, Teh Celup}        #06          \n",
            "[7]  {Pet Food, Sirup, Teh Celup} #07          \n",
            "[8]  {Teh Celup}                  #08          \n",
            "[9]  {Gula, Teh Celup}            #09          \n",
            "[10] {Gula, Pet Food, Sirup}      #10          \n"
          ]
        }
      ]
    },
    {
      "cell_type": "code",
      "source": [
        "# Menghasilkan model Market Basket Analysis\n",
        "mba <- apriori(transaksi,parameter = list(supp = 0.1, confidence = 0.5))"
      ],
      "metadata": {
        "colab": {
          "base_uri": "https://localhost:8080/"
        },
        "id": "KYmV1QCaurVF",
        "outputId": "60713e5e-230e-48fd-dad7-20a33758a1ae"
      },
      "execution_count": 43,
      "outputs": [
        {
          "output_type": "stream",
          "name": "stdout",
          "text": [
            "Apriori\n",
            "\n",
            "Parameter specification:\n",
            " confidence minval smax arem  aval originalSupport maxtime support minlen\n",
            "        0.5    0.1    1 none FALSE            TRUE       5     0.1      1\n",
            " maxlen target  ext\n",
            "     10  rules TRUE\n",
            "\n",
            "Algorithmic control:\n",
            " filter tree heap memopt load sort verbose\n",
            "    0.1 TRUE TRUE  FALSE TRUE    2    TRUE\n",
            "\n",
            "Absolute minimum support count: 1 \n",
            "\n",
            "set item appearances ...[0 item(s)] done [0.00s].\n",
            "set transactions ...[4 item(s), 10 transaction(s)] done [0.00s].\n",
            "sorting and recoding items ... [4 item(s)] done [0.00s].\n",
            "creating transaction tree ... done [0.00s].\n",
            "checking subsets of size 1 2 3 done [0.00s].\n",
            "writing ... [16 rule(s)] done [0.00s].\n",
            "creating S4 object  ... done [0.00s].\n"
          ]
        }
      ]
    },
    {
      "cell_type": "code",
      "source": [
        "# Menampilkan paket produk\n",
        "inspect(subset(mba, lift>1))"
      ],
      "metadata": {
        "colab": {
          "base_uri": "https://localhost:8080/"
        },
        "id": "LlH0ekZduunT",
        "outputId": "af5c6432-5c7c-45af-abd1-8c4611d94b0d"
      },
      "execution_count": 44,
      "outputs": [
        {
          "output_type": "stream",
          "name": "stdout",
          "text": [
            "    lhs                      rhs        support confidence coverage lift    \n",
            "[1] {Pet Food}            => {Sirup}    0.4     0.8000000  0.5      1.333333\n",
            "[2] {Sirup}               => {Pet Food} 0.4     0.6666667  0.6      1.333333\n",
            "[3] {Gula, Pet Food}      => {Sirup}    0.1     1.0000000  0.1      1.666667\n",
            "[4] {Pet Food, Teh Celup} => {Sirup}    0.2     0.6666667  0.3      1.111111\n",
            "    count\n",
            "[1] 4    \n",
            "[2] 4    \n",
            "[3] 1    \n",
            "[4] 2    \n"
          ]
        }
      ]
    },
    {
      "cell_type": "markdown",
      "source": [
        "Menampilkan Kombinasi dari Contoh Transaksi “Kecil”"
      ],
      "metadata": {
        "id": "nWca_pqiu3EQ"
      }
    },
    {
      "cell_type": "code",
      "source": [
        "# Menggunakan library arules\n",
        "library(arules)\n",
        "\n",
        "#Membaca transaksi dari file data_transaksi.txt\n",
        "transaksi <- read.transactions(file=\"https://academy.dqlab.id/dataset/data_transaksi.txt\",\n",
        "                               format=\"single\", sep=\"\\t\", cols=c(1,2), skip=1)\n",
        "\n",
        "# Menampilkan jumlah kombinasi dari produk yang terdapat pada daftar transaksi yang ada\n",
        "inspect(apriori(transaksi, parameter = list(support=.1, minlen=2, target='frequent itemsets')))"
      ],
      "metadata": {
        "colab": {
          "base_uri": "https://localhost:8080/"
        },
        "id": "matsLQsQuw8C",
        "outputId": "fff69646-d95f-48a7-b183-b99383588f5b"
      },
      "execution_count": 45,
      "outputs": [
        {
          "output_type": "stream",
          "name": "stdout",
          "text": [
            "Apriori\n",
            "\n",
            "Parameter specification:\n",
            " confidence minval smax arem  aval originalSupport maxtime support minlen\n",
            "         NA    0.1    1 none FALSE            TRUE       5     0.1      2\n",
            " maxlen            target  ext\n",
            "     10 frequent itemsets TRUE\n",
            "\n",
            "Algorithmic control:\n",
            " filter tree heap memopt load sort verbose\n",
            "    0.1 TRUE TRUE  FALSE TRUE    2    TRUE\n",
            "\n",
            "Absolute minimum support count: 1 \n",
            "\n",
            "set item appearances ...[0 item(s)] done [0.00s].\n",
            "set transactions ...[4 item(s), 10 transaction(s)] done [0.00s].\n",
            "sorting and recoding items ... [4 item(s)] done [0.00s].\n",
            "creating transaction tree ... done [0.00s].\n",
            "checking subsets of size 1 2 3 done [0.00s].\n",
            "sorting transactions ... done [0.00s].\n",
            "writing ... [9 set(s)] done [0.00s].\n",
            "creating S4 object  ... done [0.00s].\n",
            "    items                        support count\n",
            "[1] {Gula, Pet Food}             0.1     1    \n",
            "[2] {Gula, Sirup}                0.2     2    \n",
            "[3] {Gula, Teh Celup}            0.3     3    \n",
            "[4] {Pet Food, Sirup}            0.4     4    \n",
            "[5] {Pet Food, Teh Celup}        0.3     3    \n",
            "[6] {Sirup, Teh Celup}           0.4     4    \n",
            "[7] {Gula, Pet Food, Sirup}      0.1     1    \n",
            "[8] {Gula, Sirup, Teh Celup}     0.1     1    \n",
            "[9] {Pet Food, Sirup, Teh Celup} 0.2     2    \n"
          ]
        }
      ]
    },
    {
      "cell_type": "markdown",
      "source": [
        "Menampilkan Kombinasi dari Transaksi “Besar”"
      ],
      "metadata": {
        "id": "Pgs7Gt3YvAwe"
      }
    },
    {
      "cell_type": "code",
      "source": [
        "# Menggunakan library arules\n",
        "library(arules)\n",
        "\n",
        "# Membaca transaksi dari file data_transaksi2.txt\n",
        "transaksi <- read.transactions(file=\"https://academy.dqlab.id/dataset/data_transaksi2.txt\",\n",
        "                               format=\"single\", sep=\"\\t\", cols=c(1,2), skip=1)\n",
        "\n",
        "# Menampilkan jumlah kombinasi dari produk yang terdapat pada daftar transaksi yang ada\n",
        "inspect(apriori(transaksi, parameter = list(support=.03, minlen=2, target='frequent itemsets')))"
      ],
      "metadata": {
        "colab": {
          "base_uri": "https://localhost:8080/"
        },
        "id": "u9d76Dh_u-F5",
        "outputId": "4c019686-7191-453f-bf8c-b28a06750cb1"
      },
      "execution_count": 46,
      "outputs": [
        {
          "output_type": "stream",
          "name": "stderr",
          "text": [
            "Warning message in scan(file = file, sep = sep, quote = quote, what = what, flush = TRUE, :\n",
            "“number of items read is not a multiple of the number of columns”\n"
          ]
        },
        {
          "output_type": "stream",
          "name": "stdout",
          "text": [
            "Apriori\n",
            "\n",
            "Parameter specification:\n",
            " confidence minval smax arem  aval originalSupport maxtime support minlen\n",
            "         NA    0.1    1 none FALSE            TRUE       5    0.03      2\n",
            " maxlen            target  ext\n",
            "     10 frequent itemsets TRUE\n",
            "\n",
            "Algorithmic control:\n",
            " filter tree heap memopt load sort verbose\n",
            "    0.1 TRUE TRUE  FALSE TRUE    2    TRUE\n",
            "\n",
            "Absolute minimum support count: 3 \n",
            "\n",
            "set item appearances ...[0 item(s)] done [0.00s].\n",
            "set transactions ...[119 item(s), 119 transaction(s)] done [0.00s].\n",
            "sorting and recoding items ... [3 item(s)] done [0.00s].\n",
            "creating transaction tree ... done [0.00s].\n",
            "checking subsets of size 1 done [0.00s].\n",
            "sorting transactions ... done [0.00s].\n",
            "writing ... [0 set(s)] done [0.00s].\n",
            "creating S4 object  ... done [0.00s].\n"
          ]
        }
      ]
    },
    {
      "cell_type": "markdown",
      "source": [
        "Membaca File sebagai Data Frame"
      ],
      "metadata": {
        "id": "m03Z15_YvgaW"
      }
    },
    {
      "cell_type": "code",
      "source": [
        "# Membaca file yang berlokasi di https://academy.dqlab.id/dataset/data_transaksi.txt\n",
        "# dengan fungsi read.csv, dan kemudian disimpan pada variable transaksi_tabular\n",
        "transaksi_tabular <- read.csv(\"https://academy.dqlab.id/dataset/data_transaksi.txt\", sep=\"\\t\")\n",
        "\n",
        "# Menampilkan variable transaksi_tabular dengan fungsi print\n",
        "print(transaksi_tabular)"
      ],
      "metadata": {
        "colab": {
          "base_uri": "https://localhost:8080/"
        },
        "id": "unK6Bkn5vC0q",
        "outputId": "d1cef03e-4632-4fe2-8001-dad1a09173d3"
      },
      "execution_count": 47,
      "outputs": [
        {
          "output_type": "stream",
          "name": "stdout",
          "text": [
            "   Kode.Transaksi      Item\n",
            "1             #01 Teh Celup\n",
            "2             #01     Sirup\n",
            "3             #01  Pet Food\n",
            "4             #02 Teh Celup\n",
            "5             #02      Gula\n",
            "6             #03     Sirup\n",
            "7             #03  Pet Food\n",
            "8             #04 Teh Celup\n",
            "9             #04     Sirup\n",
            "10            #05 Teh Celup\n",
            "11            #05     Sirup\n",
            "12            #05      Gula\n",
            "13            #06 Teh Celup\n",
            "14            #06  Pet Food\n",
            "15            #07 Teh Celup\n",
            "16            #07     Sirup\n",
            "17            #07  Pet Food\n",
            "18            #08 Teh Celup\n",
            "19            #09 Teh Celup\n",
            "20            #09      Gula\n",
            "21            #10     Sirup\n",
            "22            #10  Pet Food\n",
            "23            #10      Gula\n"
          ]
        }
      ]
    },
    {
      "cell_type": "markdown",
      "source": [
        "Membaca File sebagai Transaction"
      ],
      "metadata": {
        "id": "lH_20jMbvlpW"
      }
    },
    {
      "cell_type": "code",
      "source": [
        "library(arules)\n",
        "\n",
        "read.transactions(file=\"https://academy.dqlab.id/dataset/data_transaksi.txt\",\n",
        "                  format=\"single\", sep=\"\\t\", cols=c(1,2), skip=1)"
      ],
      "metadata": {
        "colab": {
          "base_uri": "https://localhost:8080/",
          "height": 72
        },
        "id": "OhDMIY4uviYz",
        "outputId": "6da06460-134b-4b9b-9edd-25a847d8954d"
      },
      "execution_count": 48,
      "outputs": [
        {
          "output_type": "display_data",
          "data": {
            "text/plain": [
              "transactions in sparse format with\n",
              " 10 transactions (rows) and\n",
              " 4 items (columns)"
            ]
          },
          "metadata": {}
        }
      ]
    },
    {
      "cell_type": "markdown",
      "source": [
        "Menampilkan Daftar Item Transaksi"
      ],
      "metadata": {
        "id": "NwBB4TEUvqqr"
      }
    },
    {
      "cell_type": "code",
      "source": [
        "library(arules)\n",
        "\n",
        "transaksi <- read.transactions(file=\"https://academy.dqlab.id/dataset/data_transaksi.txt\",\n",
        "                               format=\"single\", sep=\"\\t\", cols=c(1,2), skip=1)\n",
        "transaksi@itemInfo"
      ],
      "metadata": {
        "colab": {
          "base_uri": "https://localhost:8080/",
          "height": 258
        },
        "id": "sK55QQtpvn94",
        "outputId": "726bb2a2-1f15-4bf1-a0db-150a1be64c53"
      },
      "execution_count": 49,
      "outputs": [
        {
          "output_type": "display_data",
          "data": {
            "text/html": [
              "<table class=\"dataframe\">\n",
              "<caption>A data.frame: 4 × 1</caption>\n",
              "<thead>\n",
              "\t<tr><th scope=col>labels</th></tr>\n",
              "\t<tr><th scope=col>&lt;chr&gt;</th></tr>\n",
              "</thead>\n",
              "<tbody>\n",
              "\t<tr><td>Gula     </td></tr>\n",
              "\t<tr><td>Pet Food </td></tr>\n",
              "\t<tr><td>Sirup    </td></tr>\n",
              "\t<tr><td>Teh Celup</td></tr>\n",
              "</tbody>\n",
              "</table>\n"
            ],
            "text/markdown": "\nA data.frame: 4 × 1\n\n| labels &lt;chr&gt; |\n|---|\n| Gula      |\n| Pet Food  |\n| Sirup     |\n| Teh Celup |\n\n",
            "text/latex": "A data.frame: 4 × 1\n\\begin{tabular}{l}\n labels\\\\\n <chr>\\\\\n\\hline\n\t Gula     \\\\\n\t Pet Food \\\\\n\t Sirup    \\\\\n\t Teh Celup\\\\\n\\end{tabular}\n",
            "text/plain": [
              "  labels   \n",
              "1 Gula     \n",
              "2 Pet Food \n",
              "3 Sirup    \n",
              "4 Teh Celup"
            ]
          },
          "metadata": {}
        }
      ]
    },
    {
      "cell_type": "markdown",
      "source": [
        "Menampilkan Daftar Kode Transaksi"
      ],
      "metadata": {
        "id": "QzNCKan0vuv2"
      }
    },
    {
      "cell_type": "code",
      "source": [
        "library(arules)\n",
        "\n",
        "transaksi <- read.transactions(file=\"https://academy.dqlab.id/dataset/data_transaksi.txt\",\n",
        "                               format=\"single\", sep=\"\\t\", cols=c(1,2), skip=1)\n",
        "transaksi@itemsetInfo"
      ],
      "metadata": {
        "colab": {
          "base_uri": "https://localhost:8080/",
          "height": 429
        },
        "id": "TrfU_O_0vsZ8",
        "outputId": "dae2e3b5-f2ce-4fa6-81de-dc819e5c54f1"
      },
      "execution_count": 50,
      "outputs": [
        {
          "output_type": "display_data",
          "data": {
            "text/html": [
              "<table class=\"dataframe\">\n",
              "<caption>A data.frame: 10 × 1</caption>\n",
              "<thead>\n",
              "\t<tr><th scope=col>transactionID</th></tr>\n",
              "\t<tr><th scope=col>&lt;chr&gt;</th></tr>\n",
              "</thead>\n",
              "<tbody>\n",
              "\t<tr><td>#01</td></tr>\n",
              "\t<tr><td>#02</td></tr>\n",
              "\t<tr><td>#03</td></tr>\n",
              "\t<tr><td>#04</td></tr>\n",
              "\t<tr><td>#05</td></tr>\n",
              "\t<tr><td>#06</td></tr>\n",
              "\t<tr><td>#07</td></tr>\n",
              "\t<tr><td>#08</td></tr>\n",
              "\t<tr><td>#09</td></tr>\n",
              "\t<tr><td>#10</td></tr>\n",
              "</tbody>\n",
              "</table>\n"
            ],
            "text/markdown": "\nA data.frame: 10 × 1\n\n| transactionID &lt;chr&gt; |\n|---|\n| #01 |\n| #02 |\n| #03 |\n| #04 |\n| #05 |\n| #06 |\n| #07 |\n| #08 |\n| #09 |\n| #10 |\n\n",
            "text/latex": "A data.frame: 10 × 1\n\\begin{tabular}{l}\n transactionID\\\\\n <chr>\\\\\n\\hline\n\t \\#01\\\\\n\t \\#02\\\\\n\t \\#03\\\\\n\t \\#04\\\\\n\t \\#05\\\\\n\t \\#06\\\\\n\t \\#07\\\\\n\t \\#08\\\\\n\t \\#09\\\\\n\t \\#10\\\\\n\\end{tabular}\n",
            "text/plain": [
              "   transactionID\n",
              "1  #01          \n",
              "2  #02          \n",
              "3  #03          \n",
              "4  #04          \n",
              "5  #05          \n",
              "6  #06          \n",
              "7  #07          \n",
              "8  #08          \n",
              "9  #09          \n",
              "10 #10          "
            ]
          },
          "metadata": {}
        }
      ]
    },
    {
      "cell_type": "markdown",
      "source": [
        "Tampilan Transaksi dalam bentuk Matrix"
      ],
      "metadata": {
        "id": "toqp6bM4vyBt"
      }
    },
    {
      "cell_type": "code",
      "source": [
        "library(arules)\n",
        "transaksi <- read.transactions(file=\"https://academy.dqlab.id/dataset/data_transaksi.txt\",\n",
        "                               format=\"single\", sep=\"\\t\", cols=c(1,2), skip=1)\n",
        "transaksi@data"
      ],
      "metadata": {
        "colab": {
          "base_uri": "https://localhost:8080/",
          "height": 126
        },
        "id": "tZbG-z2rvwY0",
        "outputId": "e351b33d-2f9f-4614-9b31-54608adbe41c"
      },
      "execution_count": 51,
      "outputs": [
        {
          "output_type": "display_data",
          "data": {
            "text/plain": [
              "4 x 10 sparse Matrix of class \"ngCMatrix\"\n",
              "                        \n",
              "[1,] . | . . | . . . | |\n",
              "[2,] | . | . . | | . . |\n",
              "[3,] | . | | | . | . . |\n",
              "[4,] | | . | | | | | | ."
            ]
          },
          "metadata": {}
        }
      ]
    },
    {
      "cell_type": "markdown",
      "source": [
        "Item Frequency"
      ],
      "metadata": {
        "id": "rVrdrYXov2KV"
      }
    },
    {
      "cell_type": "code",
      "source": [
        "library(arules)\n",
        "\n",
        "transaksi <- read.transactions(file=\"https://academy.dqlab.id/dataset/data_transaksi.txt\",\n",
        "                               format=\"single\", sep=\"\\t\", cols=c(1,2), skip=1)\n",
        "itemFrequency(transaksi, type=\"absolute\")"
      ],
      "metadata": {
        "colab": {
          "base_uri": "https://localhost:8080/",
          "height": 34
        },
        "id": "F37isiMkvzsB",
        "outputId": "f9ca76f6-a5fe-4570-bffc-84ec8328b12a"
      },
      "execution_count": 52,
      "outputs": [
        {
          "output_type": "display_data",
          "data": {
            "text/html": [
              "<style>\n",
              ".dl-inline {width: auto; margin:0; padding: 0}\n",
              ".dl-inline>dt, .dl-inline>dd {float: none; width: auto; display: inline-block}\n",
              ".dl-inline>dt::after {content: \":\\0020\"; padding-right: .5ex}\n",
              ".dl-inline>dt:not(:first-of-type) {padding-left: .5ex}\n",
              "</style><dl class=dl-inline><dt>Gula</dt><dd>4</dd><dt>Pet Food</dt><dd>5</dd><dt>Sirup</dt><dd>6</dd><dt>Teh Celup</dt><dd>8</dd></dl>\n"
            ],
            "text/markdown": "Gula\n:   4Pet Food\n:   5Sirup\n:   6Teh Celup\n:   8\n\n",
            "text/latex": "\\begin{description*}\n\\item[Gula] 4\n\\item[Pet Food] 5\n\\item[Sirup] 6\n\\item[Teh Celup] 8\n\\end{description*}\n",
            "text/plain": [
              "     Gula  Pet Food     Sirup Teh Celup \n",
              "        4         5         6         8 "
            ]
          },
          "metadata": {}
        }
      ]
    },
    {
      "cell_type": "markdown",
      "source": [
        "Statistik Top 3"
      ],
      "metadata": {
        "id": "pBr1-r0hv5bd"
      }
    },
    {
      "cell_type": "code",
      "source": [
        "library(arules)\n",
        "\n",
        "transaksi <- read.transactions(file=\"https://academy.dqlab.id/dataset/data_transaksi.txt\",\n",
        "                               format=\"single\", sep=\"\\t\", cols=c(1,2), skip=1)\n",
        "data_item <- itemFrequency(transaksi, type=\"absolute\")\n",
        "\n",
        "# Melakukan sorting pada data_item\n",
        "data_item <- sort(data_item, decreasing = TRUE)\n",
        "\n",
        "# Mengambil 3 item pertama\n",
        "data_item <- data_item[1:3]\n",
        "\n",
        "# Konversi data_item menjadi data frame dengan kolom Nama_Produk dan Jumlah\n",
        "data_item <- data.frame(\"Nama Produk\"=names(data_item), \"Jumlah\"=data_item, row.names=NULL)\n",
        "\n",
        "print(data_item)"
      ],
      "metadata": {
        "colab": {
          "base_uri": "https://localhost:8080/"
        },
        "id": "z4K0su-Iv31v",
        "outputId": "08608290-1408-4c32-e388-afd2f96ac37d"
      },
      "execution_count": 53,
      "outputs": [
        {
          "output_type": "stream",
          "name": "stdout",
          "text": [
            "  Nama.Produk Jumlah\n",
            "1   Teh Celup      8\n",
            "2       Sirup      6\n",
            "3    Pet Food      5\n"
          ]
        }
      ]
    },
    {
      "cell_type": "markdown",
      "source": [
        "Output Statistik Top 3 Sebagai File"
      ],
      "metadata": {
        "id": "8Zj9E8SUv9mj"
      }
    },
    {
      "cell_type": "code",
      "source": [
        "library(arules)\n",
        "\n",
        "transaksi <- read.transactions(file=\"https://academy.dqlab.id/dataset/data_transaksi.txt\",\n",
        "                               format=\"single\", sep=\"\\t\", cols=c(1,2), skip=1)\n",
        "data_item <- itemFrequency(transaksi, type=\"absolute\")\n",
        "\n",
        "# Melakukan sorting pada data_item\n",
        "data_item <- sort(data_item, decreasing = TRUE)\n",
        "\n",
        "# Mengambil 3 item pertama\n",
        "data_item <- data_item[1:3]\n",
        "\n",
        "# Konversi data_item menjadi data frame dengan kolom Nama_Produk dan Jumlah\n",
        "data_item <- data.frame(\"Nama Produk\"=names(data_item), \"Jumlah\"=data_item, row.names=NULL)\n",
        "\n",
        "# Menulis File Statistik Top 3\n",
        "write.csv(data_item, file=\"top3_item_retail.txt\", eol = \"\\r\\n\")"
      ],
      "metadata": {
        "id": "KRH_8PA3v7TN"
      },
      "execution_count": 54,
      "outputs": []
    },
    {
      "cell_type": "markdown",
      "source": [
        "Grafik Item Frequency"
      ],
      "metadata": {
        "id": "ssDMLjO-wBsT"
      }
    },
    {
      "cell_type": "code",
      "source": [
        "library(arules)\n",
        "\n",
        "transaksi <- read.transactions(file=\"https://academy.dqlab.id/dataset/data_transaksi.txt\",\n",
        "                               format=\"single\", sep=\"\\t\", cols=c(1,2), skip=1)\n",
        "\n",
        "# Tampilan item frequency plot\n",
        "itemFrequencyPlot(transaksi)"
      ],
      "metadata": {
        "colab": {
          "base_uri": "https://localhost:8080/",
          "height": 437
        },
        "id": "B2Nr1xR9v_cR",
        "outputId": "46dbccc6-5cc7-4e22-8a21-8bbe3c1a0daf"
      },
      "execution_count": 55,
      "outputs": [
        {
          "output_type": "display_data",
          "data": {
            "text/plain": [
              "plot without title"
            ],
            "image/png": "[encoded data removed]"
          },
          "metadata": {
            "image/png": {
              "width": 420,
              "height": 420
            }
          }
        }
      ]
    },
    {
      "cell_type": "markdown",
      "source": [
        "Melihat Itemset per Transaksi dengan Inspect"
      ],
      "metadata": {
        "id": "xU2GgeTtwFkc"
      }
    },
    {
      "cell_type": "code",
      "source": [
        "library(arules)\n",
        "\n",
        "transaksi <- read.transactions(file=\"https://academy.dqlab.id/dataset/data_transaksi.txt\",\n",
        "                               format=\"single\", sep=\"\\t\", cols=c(1,2), skip=1)\n",
        "\n",
        "# Menggunakan inspect terhadap transaksi\n",
        "inspect(transaksi)"
      ],
      "metadata": {
        "colab": {
          "base_uri": "https://localhost:8080/"
        },
        "id": "VW1cLPqJwC_u",
        "outputId": "57fd9d83-e8fe-4f91-e8af-08644015c75d"
      },
      "execution_count": 56,
      "outputs": [
        {
          "output_type": "stream",
          "name": "stdout",
          "text": [
            "     items                        transactionID\n",
            "[1]  {Pet Food, Sirup, Teh Celup} #01          \n",
            "[2]  {Gula, Teh Celup}            #02          \n",
            "[3]  {Pet Food, Sirup}            #03          \n",
            "[4]  {Sirup, Teh Celup}           #04          \n",
            "[5]  {Gula, Sirup, Teh Celup}     #05          \n",
            "[6]  {Pet Food, Teh Celup}        #06          \n",
            "[7]  {Pet Food, Sirup, Teh Celup} #07          \n",
            "[8]  {Teh Celup}                  #08          \n",
            "[9]  {Gula, Teh Celup}            #09          \n",
            "[10] {Gula, Pet Food, Sirup}      #10          \n"
          ]
        }
      ]
    },
    {
      "cell_type": "markdown",
      "source": [
        "Menghasilkan Rules dengan Apriori"
      ],
      "metadata": {
        "id": "lXsDZXMLwJLH"
      }
    },
    {
      "cell_type": "code",
      "source": [
        "library(arules)\n",
        "\n",
        "transaksi <- read.transactions(file=\"https://academy.dqlab.id/dataset/data_transaksi.txt\",\n",
        "                               format=\"single\", sep=\"\\t\", cols=c(1,2), skip=1)\n",
        "\n",
        "# Menghasilkan associaton rules\n",
        "apriori(transaksi)"
      ],
      "metadata": {
        "colab": {
          "base_uri": "https://localhost:8080/",
          "height": 418
        },
        "id": "rtEVp5nbwHDj",
        "outputId": "c0e9fc87-f555-43f1-b382-3622e9bd2a4b"
      },
      "execution_count": 57,
      "outputs": [
        {
          "output_type": "stream",
          "name": "stdout",
          "text": [
            "Apriori\n",
            "\n",
            "Parameter specification:\n",
            " confidence minval smax arem  aval originalSupport maxtime support minlen\n",
            "        0.8    0.1    1 none FALSE            TRUE       5     0.1      1\n",
            " maxlen target  ext\n",
            "     10  rules TRUE\n",
            "\n",
            "Algorithmic control:\n",
            " filter tree heap memopt load sort verbose\n",
            "    0.1 TRUE TRUE  FALSE TRUE    2    TRUE\n",
            "\n",
            "Absolute minimum support count: 1 \n",
            "\n",
            "set item appearances ...[0 item(s)] done [0.00s].\n",
            "set transactions ...[4 item(s), 10 transaction(s)] done [0.00s].\n",
            "sorting and recoding items ... [4 item(s)] done [0.00s].\n",
            "creating transaction tree ... done [0.00s].\n",
            "checking subsets of size 1 2 3 done [0.00s].\n",
            "writing ... [3 rule(s)] done [0.00s].\n",
            "creating S4 object  ... done [0.00s].\n"
          ]
        },
        {
          "output_type": "display_data",
          "data": {
            "text/plain": [
              "set of 3 rules "
            ]
          },
          "metadata": {}
        }
      ]
    },
    {
      "cell_type": "markdown",
      "source": [
        "Melihat Rules dengan fungsi inspect"
      ],
      "metadata": {
        "id": "RNq5-uHHwN0o"
      }
    },
    {
      "cell_type": "code",
      "source": [
        "library(arules)\n",
        "\n",
        "transaksi <- read.transactions(file=\"https://academy.dqlab.id/dataset/data_transaksi.txt\",\n",
        "                               format=\"single\", sep=\"\\t\", cols=c(1,2), skip=1)\n",
        "\n",
        "# Menghasilkan association rules dan disimpan sebagai variable mba\n",
        "mba <- apriori(transaksi)"
      ],
      "metadata": {
        "colab": {
          "base_uri": "https://localhost:8080/"
        },
        "id": "nZmyApF0wLFL",
        "outputId": "d3c46a47-8991-4e15-a688-4a813e2d5c99"
      },
      "execution_count": 58,
      "outputs": [
        {
          "output_type": "stream",
          "name": "stdout",
          "text": [
            "Apriori\n",
            "\n",
            "Parameter specification:\n",
            " confidence minval smax arem  aval originalSupport maxtime support minlen\n",
            "        0.8    0.1    1 none FALSE            TRUE       5     0.1      1\n",
            " maxlen target  ext\n",
            "     10  rules TRUE\n",
            "\n",
            "Algorithmic control:\n",
            " filter tree heap memopt load sort verbose\n",
            "    0.1 TRUE TRUE  FALSE TRUE    2    TRUE\n",
            "\n",
            "Absolute minimum support count: 1 \n",
            "\n",
            "set item appearances ...[0 item(s)] done [0.00s].\n",
            "set transactions ...[4 item(s), 10 transaction(s)] done [0.00s].\n",
            "sorting and recoding items ... [4 item(s)] done [0.00s].\n",
            "creating transaction tree ... done [0.00s].\n",
            "checking subsets of size 1 2 3 done [0.00s].\n",
            "writing ... [3 rule(s)] done [0.00s].\n",
            "creating S4 object  ... done [0.00s].\n"
          ]
        }
      ]
    },
    {
      "cell_type": "code",
      "source": [
        "# Melihat isi dari rules dengan menggunakan fungsi inspect\n",
        "inspect(mba)"
      ],
      "metadata": {
        "colab": {
          "base_uri": "https://localhost:8080/"
        },
        "id": "VXFQ3xZQwPQU",
        "outputId": "229a8fa5-b02e-45ff-8cc2-92a9a82c77b7"
      },
      "execution_count": 59,
      "outputs": [
        {
          "output_type": "stream",
          "name": "stdout",
          "text": [
            "    lhs                 rhs         support confidence coverage lift     count\n",
            "[1] {}               => {Teh Celup} 0.8     0.8        1.0      1.000000 8    \n",
            "[2] {Pet Food}       => {Sirup}     0.4     0.8        0.5      1.333333 4    \n",
            "[3] {Gula, Pet Food} => {Sirup}     0.1     1.0        0.1      1.666667 1    \n"
          ]
        }
      ]
    },
    {
      "cell_type": "markdown",
      "source": [
        "Filter RHS"
      ],
      "metadata": {
        "id": "iKT0dYS_wTl8"
      }
    },
    {
      "cell_type": "code",
      "source": [
        "library(arules)\n",
        "\n",
        "transaksi <- read.transactions(file=\"https://academy.dqlab.id/dataset/data_transaksi.txt\",\n",
        "                               format=\"single\", sep=\"\\t\", cols=c(1,2), skip=1)\n",
        "\n",
        "# Menghasilkan association rules dan disimpan sebagai variable mba\n",
        "mba <- apriori(transaksi)"
      ],
      "metadata": {
        "colab": {
          "base_uri": "https://localhost:8080/"
        },
        "id": "B5mU7K5VwSBR",
        "outputId": "1ca237c6-3fd0-49af-9b31-f3f5b837e8bc"
      },
      "execution_count": 60,
      "outputs": [
        {
          "output_type": "stream",
          "name": "stdout",
          "text": [
            "Apriori\n",
            "\n",
            "Parameter specification:\n",
            " confidence minval smax arem  aval originalSupport maxtime support minlen\n",
            "        0.8    0.1    1 none FALSE            TRUE       5     0.1      1\n",
            " maxlen target  ext\n",
            "     10  rules TRUE\n",
            "\n",
            "Algorithmic control:\n",
            " filter tree heap memopt load sort verbose\n",
            "    0.1 TRUE TRUE  FALSE TRUE    2    TRUE\n",
            "\n",
            "Absolute minimum support count: 1 \n",
            "\n",
            "set item appearances ...[0 item(s)] done [0.00s].\n",
            "set transactions ...[4 item(s), 10 transaction(s)] done [0.00s].\n",
            "sorting and recoding items ... [4 item(s)] done [0.00s].\n",
            "creating transaction tree ... done [0.00s].\n",
            "checking subsets of size 1 2 3 done [0.00s].\n",
            "writing ... [3 rule(s)] done [0.00s].\n",
            "creating S4 object  ... done [0.00s].\n"
          ]
        }
      ]
    },
    {
      "cell_type": "code",
      "source": [
        "# Filter rhs dengan item \"Sirup\" dan tampilkan\n",
        "inspect(subset(mba, rhs %in% \"Sirup\"))"
      ],
      "metadata": {
        "colab": {
          "base_uri": "https://localhost:8080/"
        },
        "id": "4jg85lhfwVXg",
        "outputId": "92c560bd-580c-489a-c446-e052d9b04d3d"
      },
      "execution_count": 61,
      "outputs": [
        {
          "output_type": "stream",
          "name": "stdout",
          "text": [
            "    lhs                 rhs     support confidence coverage lift     count\n",
            "[1] {Pet Food}       => {Sirup} 0.4     0.8        0.5      1.333333 4    \n",
            "[2] {Gula, Pet Food} => {Sirup} 0.1     1.0        0.1      1.666667 1    \n"
          ]
        }
      ]
    },
    {
      "cell_type": "markdown",
      "source": [
        "Filter LHS"
      ],
      "metadata": {
        "id": "w88TR0Qpwai3"
      }
    },
    {
      "cell_type": "code",
      "source": [
        "library(arules)\n",
        "\n",
        "transaksi <- read.transactions(file=\"https://academy.dqlab.id/dataset/data_transaksi.txt\",\n",
        "                               format=\"single\", sep=\"\\t\", cols=c(1,2), skip=1)\n",
        "mba <- apriori(transaksi)"
      ],
      "metadata": {
        "colab": {
          "base_uri": "https://localhost:8080/"
        },
        "id": "UY6ddq11wX2P",
        "outputId": "0f82c0d0-2dda-4fca-e9bb-3419de888e12"
      },
      "execution_count": 62,
      "outputs": [
        {
          "output_type": "stream",
          "name": "stdout",
          "text": [
            "Apriori\n",
            "\n",
            "Parameter specification:\n",
            " confidence minval smax arem  aval originalSupport maxtime support minlen\n",
            "        0.8    0.1    1 none FALSE            TRUE       5     0.1      1\n",
            " maxlen target  ext\n",
            "     10  rules TRUE\n",
            "\n",
            "Algorithmic control:\n",
            " filter tree heap memopt load sort verbose\n",
            "    0.1 TRUE TRUE  FALSE TRUE    2    TRUE\n",
            "\n",
            "Absolute minimum support count: 1 \n",
            "\n",
            "set item appearances ...[0 item(s)] done [0.00s].\n",
            "set transactions ...[4 item(s), 10 transaction(s)] done [0.00s].\n",
            "sorting and recoding items ... [4 item(s)] done [0.00s].\n",
            "creating transaction tree ... done [0.00s].\n",
            "checking subsets of size 1 2 3 done [0.00s].\n",
            "writing ... [3 rule(s)] done [0.00s].\n",
            "creating S4 object  ... done [0.00s].\n"
          ]
        }
      ]
    },
    {
      "cell_type": "code",
      "source": [
        "inspect(subset(mba, lhs %in% \"Gula\"))"
      ],
      "metadata": {
        "colab": {
          "base_uri": "https://localhost:8080/"
        },
        "id": "MQZ_GYNxwb6P",
        "outputId": "e4731665-00ab-4778-d13c-9d10de91b8af"
      },
      "execution_count": 63,
      "outputs": [
        {
          "output_type": "stream",
          "name": "stdout",
          "text": [
            "    lhs                 rhs     support confidence coverage lift     count\n",
            "[1] {Gula, Pet Food} => {Sirup} 0.1     1          0.1      1.666667 1    \n"
          ]
        }
      ]
    },
    {
      "cell_type": "markdown",
      "source": [
        "Filter LHS dan RHS"
      ],
      "metadata": {
        "id": "rN0vckh1wep2"
      }
    },
    {
      "cell_type": "code",
      "source": [
        "library(arules)\n",
        "\n",
        "transaksi <- read.transactions(file=\"https://academy.dqlab.id/dataset/data_transaksi.txt\",\n",
        "                               format=\"single\", sep=\"\\t\", cols=c(1,2), skip=1)\n",
        "mba <- apriori(transaksi)"
      ],
      "metadata": {
        "colab": {
          "base_uri": "https://localhost:8080/"
        },
        "id": "Cge6s2YewdcY",
        "outputId": "95bc37cc-2f32-42b7-a8a1-634bc3b3b197"
      },
      "execution_count": 64,
      "outputs": [
        {
          "output_type": "stream",
          "name": "stdout",
          "text": [
            "Apriori\n",
            "\n",
            "Parameter specification:\n",
            " confidence minval smax arem  aval originalSupport maxtime support minlen\n",
            "        0.8    0.1    1 none FALSE            TRUE       5     0.1      1\n",
            " maxlen target  ext\n",
            "     10  rules TRUE\n",
            "\n",
            "Algorithmic control:\n",
            " filter tree heap memopt load sort verbose\n",
            "    0.1 TRUE TRUE  FALSE TRUE    2    TRUE\n",
            "\n",
            "Absolute minimum support count: 1 \n",
            "\n",
            "set item appearances ...[0 item(s)] done [0.00s].\n",
            "set transactions ...[4 item(s), 10 transaction(s)] done [0.00s].\n",
            "sorting and recoding items ... [4 item(s)] done [0.00s].\n",
            "creating transaction tree ... done [0.00s].\n",
            "checking subsets of size 1 2 3 done [0.00s].\n",
            "writing ... [3 rule(s)] done [0.00s].\n",
            "creating S4 object  ... done [0.00s].\n"
          ]
        }
      ]
    },
    {
      "cell_type": "code",
      "source": [
        "inspect(subset(mba, lhs %in% \"Pet Food\" & rhs %in% \"Sirup\"))"
      ],
      "metadata": {
        "colab": {
          "base_uri": "https://localhost:8080/"
        },
        "id": "kWdcPQCvwkAj",
        "outputId": "37755888-f8ca-497c-9d43-4289d2967df9"
      },
      "execution_count": 65,
      "outputs": [
        {
          "output_type": "stream",
          "name": "stdout",
          "text": [
            "    lhs                 rhs     support confidence coverage lift     count\n",
            "[1] {Pet Food}       => {Sirup} 0.4     0.8        0.5      1.333333 4    \n",
            "[2] {Gula, Pet Food} => {Sirup} 0.1     1.0        0.1      1.666667 1    \n"
          ]
        }
      ]
    },
    {
      "cell_type": "markdown",
      "source": [
        "Menghasilkan Rules dengan Parameter Support dan Confidence"
      ],
      "metadata": {
        "id": "JOTkW6KOwm1x"
      }
    },
    {
      "cell_type": "code",
      "source": [
        "library(arules)\n",
        "\n",
        "transaksi <- read.transactions(file=\"https://academy.dqlab.id/dataset/data_transaksi.txt\",\n",
        "                               format=\"single\", sep=\"\\t\", cols=c(1,2), skip=1)\n",
        "apriori(transaksi, parameter = list(supp = 0.1, confidence = 0.5))"
      ],
      "metadata": {
        "colab": {
          "base_uri": "https://localhost:8080/",
          "height": 418
        },
        "id": "CT4hEw5ZwlxT",
        "outputId": "8aa95cbb-fead-4d01-8c34-ab462949d4d6"
      },
      "execution_count": 66,
      "outputs": [
        {
          "output_type": "stream",
          "name": "stdout",
          "text": [
            "Apriori\n",
            "\n",
            "Parameter specification:\n",
            " confidence minval smax arem  aval originalSupport maxtime support minlen\n",
            "        0.5    0.1    1 none FALSE            TRUE       5     0.1      1\n",
            " maxlen target  ext\n",
            "     10  rules TRUE\n",
            "\n",
            "Algorithmic control:\n",
            " filter tree heap memopt load sort verbose\n",
            "    0.1 TRUE TRUE  FALSE TRUE    2    TRUE\n",
            "\n",
            "Absolute minimum support count: 1 \n",
            "\n",
            "set item appearances ...[0 item(s)] done [0.00s].\n",
            "set transactions ...[4 item(s), 10 transaction(s)] done [0.00s].\n",
            "sorting and recoding items ... [4 item(s)] done [0.00s].\n",
            "creating transaction tree ... done [0.00s].\n",
            "checking subsets of size 1 2 3 done [0.00s].\n",
            "writing ... [16 rule(s)] done [0.00s].\n",
            "creating S4 object  ... done [0.00s].\n"
          ]
        },
        {
          "output_type": "display_data",
          "data": {
            "text/plain": [
              "set of 16 rules "
            ]
          },
          "metadata": {}
        }
      ]
    },
    {
      "cell_type": "markdown",
      "source": [
        "Inspeksi Rules Yang Dihasilkan"
      ],
      "metadata": {
        "id": "beQwRiJTwqSV"
      }
    },
    {
      "cell_type": "code",
      "source": [
        "library(arules)\n",
        "\n",
        "transaksi <- read.transactions(file=\"https://academy.dqlab.id/dataset/data_transaksi.txt\",\n",
        "                               format=\"single\", sep=\"\\t\", cols=c(1,2), skip=1)\n",
        "apriori(transaksi ,parameter = list(supp = 0.1, confidence = 0.5))"
      ],
      "metadata": {
        "colab": {
          "base_uri": "https://localhost:8080/",
          "height": 418
        },
        "id": "uVpCo2qxwoTA",
        "outputId": "b77aebfc-7552-4d6c-9deb-531b400ac44a"
      },
      "execution_count": 67,
      "outputs": [
        {
          "output_type": "stream",
          "name": "stdout",
          "text": [
            "Apriori\n",
            "\n",
            "Parameter specification:\n",
            " confidence minval smax arem  aval originalSupport maxtime support minlen\n",
            "        0.5    0.1    1 none FALSE            TRUE       5     0.1      1\n",
            " maxlen target  ext\n",
            "     10  rules TRUE\n",
            "\n",
            "Algorithmic control:\n",
            " filter tree heap memopt load sort verbose\n",
            "    0.1 TRUE TRUE  FALSE TRUE    2    TRUE\n",
            "\n",
            "Absolute minimum support count: 1 \n",
            "\n",
            "set item appearances ...[0 item(s)] done [0.00s].\n",
            "set transactions ...[4 item(s), 10 transaction(s)] done [0.00s].\n",
            "sorting and recoding items ... [4 item(s)] done [0.00s].\n",
            "creating transaction tree ... done [0.00s].\n",
            "checking subsets of size 1 2 3 done [0.00s].\n",
            "writing ... [16 rule(s)] done [0.00s].\n",
            "creating S4 object  ... done [0.00s].\n"
          ]
        },
        {
          "output_type": "display_data",
          "data": {
            "text/plain": [
              "set of 16 rules "
            ]
          },
          "metadata": {}
        }
      ]
    },
    {
      "cell_type": "code",
      "source": [
        "inspect(mba)"
      ],
      "metadata": {
        "colab": {
          "base_uri": "https://localhost:8080/"
        },
        "id": "kevy0EKuwr3O",
        "outputId": "eaa815c1-36cb-4110-ffb3-e2164759527e"
      },
      "execution_count": 68,
      "outputs": [
        {
          "output_type": "stream",
          "name": "stdout",
          "text": [
            "    lhs                 rhs         support confidence coverage lift     count\n",
            "[1] {}               => {Teh Celup} 0.8     0.8        1.0      1.000000 8    \n",
            "[2] {Pet Food}       => {Sirup}     0.4     0.8        0.5      1.333333 4    \n",
            "[3] {Gula, Pet Food} => {Sirup}     0.1     1.0        0.1      1.666667 1    \n"
          ]
        }
      ]
    },
    {
      "cell_type": "markdown",
      "source": [
        "Filter LHS dan RHS (2)"
      ],
      "metadata": {
        "id": "HXep85N1wusW"
      }
    },
    {
      "cell_type": "code",
      "source": [
        "library(arules)\n",
        "\n",
        "transaksi <- read.transactions(file=\"https://academy.dqlab.id/dataset/data_transaksi.txt\",\n",
        "                               format=\"single\", sep=\"\\t\", cols=c(1,2), skip=1)\n",
        "mba <- apriori(transaksi,parameter = list(supp = 0.1, confidence = 0.5))"
      ],
      "metadata": {
        "colab": {
          "base_uri": "https://localhost:8080/"
        },
        "id": "z0qqXtUEwtQk",
        "outputId": "1896f476-9263-4e08-e647-dce2a0e90f6e"
      },
      "execution_count": 69,
      "outputs": [
        {
          "output_type": "stream",
          "name": "stdout",
          "text": [
            "Apriori\n",
            "\n",
            "Parameter specification:\n",
            " confidence minval smax arem  aval originalSupport maxtime support minlen\n",
            "        0.5    0.1    1 none FALSE            TRUE       5     0.1      1\n",
            " maxlen target  ext\n",
            "     10  rules TRUE\n",
            "\n",
            "Algorithmic control:\n",
            " filter tree heap memopt load sort verbose\n",
            "    0.1 TRUE TRUE  FALSE TRUE    2    TRUE\n",
            "\n",
            "Absolute minimum support count: 1 \n",
            "\n",
            "set item appearances ...[0 item(s)] done [0.00s].\n",
            "set transactions ...[4 item(s), 10 transaction(s)] done [0.00s].\n",
            "sorting and recoding items ... [4 item(s)] done [0.00s].\n",
            "creating transaction tree ... done [0.00s].\n",
            "checking subsets of size 1 2 3 done [0.00s].\n",
            "writing ... [16 rule(s)] done [0.00s].\n",
            "creating S4 object  ... done [0.00s].\n"
          ]
        }
      ]
    },
    {
      "cell_type": "code",
      "source": [
        "inspect(subset(mba, lhs %in% \"Teh Celup\" | rhs %in% \"Teh Celup\"))"
      ],
      "metadata": {
        "colab": {
          "base_uri": "https://localhost:8080/"
        },
        "id": "40TqKeXbwwDe",
        "outputId": "6554f0a4-c6f2-45d4-a2c3-d9a9f28bd588"
      },
      "execution_count": 70,
      "outputs": [
        {
          "output_type": "stream",
          "name": "stdout",
          "text": [
            "    lhs                      rhs         support confidence coverage lift     \n",
            "[1] {}                    => {Teh Celup} 0.8     0.8000000  1.0      1.0000000\n",
            "[2] {Gula}                => {Teh Celup} 0.3     0.7500000  0.4      0.9375000\n",
            "[3] {Pet Food}            => {Teh Celup} 0.3     0.6000000  0.5      0.7500000\n",
            "[4] {Sirup}               => {Teh Celup} 0.4     0.6666667  0.6      0.8333333\n",
            "[5] {Teh Celup}           => {Sirup}     0.4     0.5000000  0.8      0.8333333\n",
            "[6] {Gula, Sirup}         => {Teh Celup} 0.1     0.5000000  0.2      0.6250000\n",
            "[7] {Pet Food, Sirup}     => {Teh Celup} 0.2     0.5000000  0.4      0.6250000\n",
            "[8] {Pet Food, Teh Celup} => {Sirup}     0.2     0.6666667  0.3      1.1111111\n",
            "[9] {Sirup, Teh Celup}    => {Pet Food}  0.2     0.5000000  0.4      1.0000000\n",
            "    count\n",
            "[1] 8    \n",
            "[2] 3    \n",
            "[3] 3    \n",
            "[4] 4    \n",
            "[5] 4    \n",
            "[6] 1    \n",
            "[7] 2    \n",
            "[8] 2    \n",
            "[9] 2    \n"
          ]
        }
      ]
    },
    {
      "cell_type": "markdown",
      "source": [
        "Filter berdasarkan Lift"
      ],
      "metadata": {
        "id": "L96scdxXwzyA"
      }
    },
    {
      "cell_type": "code",
      "source": [
        "library(arules)\n",
        "\n",
        "transaksi <- read.transactions(file=\"https://academy.dqlab.id/dataset/data_transaksi.txt\",\n",
        "                               format=\"single\", sep=\"\\t\", cols=c(1,2), skip=1)\n",
        "mba <- apriori(transaksi,parameter = list(supp = 0.1, confidence = 0.5))"
      ],
      "metadata": {
        "colab": {
          "base_uri": "https://localhost:8080/"
        },
        "id": "P845GXrIwxqQ",
        "outputId": "e4cb32b3-e6ea-43ad-c6d3-b2aed06b44f5"
      },
      "execution_count": 71,
      "outputs": [
        {
          "output_type": "stream",
          "name": "stdout",
          "text": [
            "Apriori\n",
            "\n",
            "Parameter specification:\n",
            " confidence minval smax arem  aval originalSupport maxtime support minlen\n",
            "        0.5    0.1    1 none FALSE            TRUE       5     0.1      1\n",
            " maxlen target  ext\n",
            "     10  rules TRUE\n",
            "\n",
            "Algorithmic control:\n",
            " filter tree heap memopt load sort verbose\n",
            "    0.1 TRUE TRUE  FALSE TRUE    2    TRUE\n",
            "\n",
            "Absolute minimum support count: 1 \n",
            "\n",
            "set item appearances ...[0 item(s)] done [0.00s].\n",
            "set transactions ...[4 item(s), 10 transaction(s)] done [0.00s].\n",
            "sorting and recoding items ... [4 item(s)] done [0.00s].\n",
            "creating transaction tree ... done [0.00s].\n",
            "checking subsets of size 1 2 3 done [0.00s].\n",
            "writing ... [16 rule(s)] done [0.00s].\n",
            "creating S4 object  ... done [0.00s].\n"
          ]
        }
      ]
    },
    {
      "cell_type": "code",
      "source": [
        "inspect(subset(mba, (lhs %in% \"Teh Celup\" | rhs %in% \"Teh Celup\") & lift>1))"
      ],
      "metadata": {
        "colab": {
          "base_uri": "https://localhost:8080/"
        },
        "id": "gVYjWgd_w1AK",
        "outputId": "9545cc9b-e0d1-4ad5-cba7-aa7858539b94"
      },
      "execution_count": 72,
      "outputs": [
        {
          "output_type": "stream",
          "name": "stdout",
          "text": [
            "    lhs                      rhs     support confidence coverage lift     count\n",
            "[1] {Pet Food, Teh Celup} => {Sirup} 0.2     0.6666667  0.3      1.111111 2    \n"
          ]
        }
      ]
    },
    {
      "cell_type": "markdown",
      "source": [
        "Rekomendasi - Filter dengan %ain%"
      ],
      "metadata": {
        "id": "VfNDTAfXw39g"
      }
    },
    {
      "cell_type": "code",
      "source": [
        "library(arules)\n",
        "\n",
        "transaksi <- read.transactions(file=\"https://academy.dqlab.id/dataset/data_transaksi.txt\",\n",
        "                               format=\"single\", sep=\"\\t\", cols=c(1,2), skip=1)\n",
        "mba <- apriori(transaksi,parameter = list(supp = 0.1, confidence = 0.5))"
      ],
      "metadata": {
        "colab": {
          "base_uri": "https://localhost:8080/"
        },
        "id": "jrsnko3iw2kF",
        "outputId": "bc0f38fc-90df-4de4-86f2-2304575f991b"
      },
      "execution_count": 73,
      "outputs": [
        {
          "output_type": "stream",
          "name": "stdout",
          "text": [
            "Apriori\n",
            "\n",
            "Parameter specification:\n",
            " confidence minval smax arem  aval originalSupport maxtime support minlen\n",
            "        0.5    0.1    1 none FALSE            TRUE       5     0.1      1\n",
            " maxlen target  ext\n",
            "     10  rules TRUE\n",
            "\n",
            "Algorithmic control:\n",
            " filter tree heap memopt load sort verbose\n",
            "    0.1 TRUE TRUE  FALSE TRUE    2    TRUE\n",
            "\n",
            "Absolute minimum support count: 1 \n",
            "\n",
            "set item appearances ...[0 item(s)] done [0.00s].\n",
            "set transactions ...[4 item(s), 10 transaction(s)] done [0.00s].\n",
            "sorting and recoding items ... [4 item(s)] done [0.00s].\n",
            "creating transaction tree ... done [0.00s].\n",
            "checking subsets of size 1 2 3 done [0.00s].\n",
            "writing ... [16 rule(s)] done [0.00s].\n",
            "creating S4 object  ... done [0.00s].\n"
          ]
        }
      ]
    },
    {
      "cell_type": "code",
      "source": [
        "inspect(subset(mba, (lhs %ain% c(\"Pet Food\", \"Gula\" ))))"
      ],
      "metadata": {
        "colab": {
          "base_uri": "https://localhost:8080/"
        },
        "id": "Kakqm_Yew5fV",
        "outputId": "afbfee69-02e0-4505-f9df-6b6532b33d1d"
      },
      "execution_count": 74,
      "outputs": [
        {
          "output_type": "stream",
          "name": "stdout",
          "text": [
            "    lhs                 rhs     support confidence coverage lift     count\n",
            "[1] {Gula, Pet Food} => {Sirup} 0.1     1          0.1      1.666667 1    \n"
          ]
        }
      ]
    },
    {
      "cell_type": "markdown",
      "source": [
        "Visualisasi Rules dengan Graph"
      ],
      "metadata": {
        "id": "SJMeIKO0w8Yg"
      }
    },
    {
      "cell_type": "code",
      "source": [
        "install.packages(\"arulesViz\")"
      ],
      "metadata": {
        "colab": {
          "base_uri": "https://localhost:8080/"
        },
        "id": "E9_dvXOzw_nl",
        "outputId": "e141786d-eb7d-40b0-efee-ed4e1c21199e"
      },
      "execution_count": 75,
      "outputs": [
        {
          "output_type": "stream",
          "name": "stderr",
          "text": [
            "Installing package into ‘/usr/local/lib/R/site-library’\n",
            "(as ‘lib’ is unspecified)\n",
            "\n"
          ]
        }
      ]
    },
    {
      "cell_type": "code",
      "source": [
        "library(arules)\n",
        "library(arulesViz)"
      ],
      "metadata": {
        "id": "6gzl9t3Vw7Dd"
      },
      "execution_count": 76,
      "outputs": []
    },
    {
      "cell_type": "code",
      "source": [
        "transaksi <- read.transactions(file=\"https://academy.dqlab.id/dataset/data_transaksi.txt\",\n",
        "                               format=\"single\", sep=\"\\t\", cols=c(1,2), skip=1)\n",
        "mba <- apriori(transaksi,parameter = list(supp = 0.1, confidence = 0.5))"
      ],
      "metadata": {
        "colab": {
          "base_uri": "https://localhost:8080/"
        },
        "id": "9czeQ5tIw910",
        "outputId": "63297ffd-e179-46ba-d267-467a770dfc9d"
      },
      "execution_count": 77,
      "outputs": [
        {
          "output_type": "stream",
          "name": "stdout",
          "text": [
            "Apriori\n",
            "\n",
            "Parameter specification:\n",
            " confidence minval smax arem  aval originalSupport maxtime support minlen\n",
            "        0.5    0.1    1 none FALSE            TRUE       5     0.1      1\n",
            " maxlen target  ext\n",
            "     10  rules TRUE\n",
            "\n",
            "Algorithmic control:\n",
            " filter tree heap memopt load sort verbose\n",
            "    0.1 TRUE TRUE  FALSE TRUE    2    TRUE\n",
            "\n",
            "Absolute minimum support count: 1 \n",
            "\n",
            "set item appearances ...[0 item(s)] done [0.00s].\n",
            "set transactions ...[4 item(s), 10 transaction(s)] done [0.00s].\n",
            "sorting and recoding items ... [4 item(s)] done [0.00s].\n",
            "creating transaction tree ... done [0.00s].\n",
            "checking subsets of size 1 2 3 done [0.00s].\n",
            "writing ... [16 rule(s)] done [0.00s].\n",
            "creating S4 object  ... done [0.00s].\n"
          ]
        }
      ]
    },
    {
      "cell_type": "code",
      "source": [
        "plot(subset(mba, lift>1.1), method=\"graph\")"
      ],
      "metadata": {
        "colab": {
          "base_uri": "https://localhost:8080/",
          "height": 437
        },
        "id": "HHqv-TKYxFjY",
        "outputId": "fa808367-17af-481a-e05c-b33e669b5f70"
      },
      "execution_count": 78,
      "outputs": [
        {
          "output_type": "display_data",
          "data": {
            "text/plain": [
              "plot without title"
            ],
            "image/png": "[encoded data removed]"
          },
          "metadata": {
            "image/png": {
              "width": 420,
              "height": 420
            }
          }
        }
      ]
    }
  ]
}